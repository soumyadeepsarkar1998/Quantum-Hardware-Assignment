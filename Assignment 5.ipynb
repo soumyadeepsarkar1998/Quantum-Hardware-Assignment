{
 "cells": [
  {
   "cell_type": "code",
   "execution_count": 1,
   "id": "36248364",
   "metadata": {},
   "outputs": [],
   "source": [
    "import numpy as np\n",
    "import math\n",
    "import matplotlib.pyplot as plt\n",
    "from scipy import linalg\n",
    "import random"
   ]
  },
  {
   "cell_type": "code",
   "execution_count": 2,
   "id": "ba774b21",
   "metadata": {},
   "outputs": [],
   "source": [
    "pi = np.pi"
   ]
  },
  {
   "cell_type": "code",
   "execution_count": 3,
   "id": "e9dec870",
   "metadata": {},
   "outputs": [],
   "source": [
    "deltat = 0.05\n",
    "Omega = 2*pi\n",
    "p=0.01"
   ]
  },
  {
   "cell_type": "code",
   "execution_count": 4,
   "id": "cf0c8029",
   "metadata": {},
   "outputs": [],
   "source": [
    "t = np.linspace(0, 10, num=200)"
   ]
  },
  {
   "cell_type": "code",
   "execution_count": 5,
   "id": "559676de",
   "metadata": {},
   "outputs": [],
   "source": [
    "H = (Omega/2)*np.array([ [1,0] , [0,-1] ])\n",
    "sigmax = np.array( [ [0,1] , [1,0]])"
   ]
  },
  {
   "cell_type": "code",
   "execution_count": 6,
   "id": "8e178f1f",
   "metadata": {},
   "outputs": [
    {
     "data": {
      "text/plain": [
       "array([[ 3.14159265,  0.        ],\n",
       "       [ 0.        , -3.14159265]])"
      ]
     },
     "execution_count": 6,
     "metadata": {},
     "output_type": "execute_result"
    }
   ],
   "source": [
    "H"
   ]
  },
  {
   "cell_type": "code",
   "execution_count": 7,
   "id": "8852d972",
   "metadata": {},
   "outputs": [],
   "source": [
    "U = linalg.expm((-1j)*deltat*H)"
   ]
  },
  {
   "cell_type": "code",
   "execution_count": 8,
   "id": "502b0f2f",
   "metadata": {},
   "outputs": [
    {
     "data": {
      "text/plain": [
       "array([[0.98768834-0.15643447j, 0.        +0.j        ],\n",
       "       [0.        +0.j        , 0.98768834+0.15643447j]])"
      ]
     },
     "execution_count": 8,
     "metadata": {},
     "output_type": "execute_result"
    }
   ],
   "source": [
    "U"
   ]
  },
  {
   "cell_type": "code",
   "execution_count": 9,
   "id": "3e8ff55f",
   "metadata": {},
   "outputs": [],
   "source": [
    "phi = np.array([1/math.sqrt(2),1/math.sqrt(2)])"
   ]
  },
  {
   "cell_type": "code",
   "execution_count": 10,
   "id": "c7fca00d",
   "metadata": {},
   "outputs": [],
   "source": [
    "Esigmax = np.array(np.vdot(phi,sigmax.dot(phi)))"
   ]
  },
  {
   "cell_type": "code",
   "execution_count": 11,
   "id": "187d24e4",
   "metadata": {},
   "outputs": [],
   "source": [
    "for i in t:\n",
    "    phi = U.dot(phi)\n",
    "    Esigmax = np.append(Esigmax, np.vdot(phi,sigmax.dot(phi)))\n",
    "    "
   ]
  },
  {
   "cell_type": "code",
   "execution_count": 12,
   "id": "d017765a",
   "metadata": {},
   "outputs": [],
   "source": [
    "t=np.append(t,10.005)"
   ]
  },
  {
   "cell_type": "code",
   "execution_count": 13,
   "id": "01b8c76b",
   "metadata": {},
   "outputs": [
    {
     "name": "stderr",
     "output_type": "stream",
     "text": [
      "C:\\Users\\soumy\\anaconda3\\lib\\site-packages\\numpy\\core\\_asarray.py:102: ComplexWarning: Casting complex values to real discards the imaginary part\n",
      "  return array(a, dtype, copy=False, order=order)\n"
     ]
    },
    {
     "data": {
      "text/plain": [
       "[<matplotlib.lines.Line2D at 0x1c304bf76a0>]"
      ]
     },
     "execution_count": 13,
     "metadata": {},
     "output_type": "execute_result"
    },
    {
     "data": {
      "image/png": "[encoded data removed]",
      "text/plain": [
       "<Figure size 432x288 with 1 Axes>"
      ]
     },
     "metadata": {
      "needs_background": "light"
     },
     "output_type": "display_data"
    }
   ],
   "source": [
    "plt.plot(t, Esigmax)"
   ]
  },
  {
   "cell_type": "code",
   "execution_count": 14,
   "id": "89003731",
   "metadata": {},
   "outputs": [],
   "source": [
    "t=np.delete(t,-1)"
   ]
  },
  {
   "cell_type": "code",
   "execution_count": 15,
   "id": "72daab0c",
   "metadata": {},
   "outputs": [],
   "source": [
    "phi2 = []"
   ]
  },
  {
   "cell_type": "code",
   "execution_count": 16,
   "id": "6e4695a5",
   "metadata": {},
   "outputs": [],
   "source": [
    "Esigmax2=[]"
   ]
  },
  {
   "cell_type": "code",
   "execution_count": 17,
   "id": "423d1325",
   "metadata": {},
   "outputs": [],
   "source": [
    "for i in range(100):\n",
    "    phi2.append(phi)"
   ]
  },
  {
   "cell_type": "code",
   "execution_count": 18,
   "id": "29a04e8b",
   "metadata": {},
   "outputs": [],
   "source": [
    "phi2 = np.asarray(phi2)"
   ]
  },
  {
   "cell_type": "code",
   "execution_count": 19,
   "id": "8a7a3bb4",
   "metadata": {},
   "outputs": [],
   "source": [
    "for i in t:\n",
    "    dummy=0\n",
    "    for j in range(100):\n",
    "        if random.random() < p:\n",
    "            phi2[j] = np.array([1,0])\n",
    "        else:\n",
    "            \n",
    "            phi2[j] = U.dot(phi2[j])\n",
    "            \n",
    "        dummy = dummy + np.vdot(phi2[j],sigmax.dot(phi2[j]))\n",
    "    Esigmax2.append(dummy)"
   ]
  },
  {
   "cell_type": "code",
   "execution_count": 20,
   "id": "29b697c4",
   "metadata": {},
   "outputs": [],
   "source": [
    "Esigmax2 = np.asarray(Esigmax2)"
   ]
  },
  {
   "cell_type": "code",
   "execution_count": 21,
   "id": "45e21882",
   "metadata": {},
   "outputs": [
    {
     "name": "stderr",
     "output_type": "stream",
     "text": [
      "C:\\Users\\soumy\\anaconda3\\lib\\site-packages\\numpy\\core\\_asarray.py:102: ComplexWarning: Casting complex values to real discards the imaginary part\n",
      "  return array(a, dtype, copy=False, order=order)\n"
     ]
    },
    {
     "data": {
      "text/plain": [
       "[<matplotlib.lines.Line2D at 0x1c304cf1670>]"
      ]
     },
     "execution_count": 21,
     "metadata": {},
     "output_type": "execute_result"
    },
    {
     "data": {
      "image/png": "[encoded data removed]",
      "text/plain": [
       "<Figure size 432x288 with 1 Axes>"
      ]
     },
     "metadata": {
      "needs_background": "light"
     },
     "output_type": "display_data"
    }
   ],
   "source": [
    "plt.plot(t, Esigmax2)"
   ]
  },
  {
   "cell_type": "code",
   "execution_count": null,
   "id": "2aee96ba",
   "metadata": {},
   "outputs": [],
   "source": []
  }
 ],
 "metadata": {
  "kernelspec": {
   "display_name": "Python 3",
   "language": "python",
   "name": "python3"
  },
  "language_info": {
   "codemirror_mode": {
    "name": "ipython",
    "version": 3
   },
   "file_extension": ".py",
   "mimetype": "text/x-python",
   "name": "python",
   "nbconvert_exporter": "python",
   "pygments_lexer": "ipython3",
   "version": "3.8.8"
  }
 },
 "nbformat": 4,
 "nbformat_minor": 5
}
